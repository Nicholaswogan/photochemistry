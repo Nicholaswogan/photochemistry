{
 "cells": [
  {
   "cell_type": "code",
   "execution_count": 36,
   "metadata": {},
   "outputs": [],
   "source": [
    "import numpy as np\n",
    "from matplotlib import pyplot as plt\n",
    "from ruamel.yaml import YAML\n",
    "\n",
    "yaml=YAML() "
   ]
  },
  {
   "cell_type": "code",
   "execution_count": 30,
   "metadata": {},
   "outputs": [],
   "source": [
    "fil = open('../../data/reaction_mechanisms/zahnle_earth.yaml','r')\n",
    "zahnle = yaml.load(fil)\n",
    "fil.close()\n",
    "zahnle_species = []\n",
    "for i in range(len(zahnle['species'])):\n",
    "    zahnle_species.append(zahnle['species'][i]['name'])"
   ]
  },
  {
   "cell_type": "code",
   "execution_count": null,
   "metadata": {},
   "outputs": [],
   "source": []
  },
  {
   "cell_type": "code",
   "execution_count": 31,
   "metadata": {},
   "outputs": [],
   "source": [
    "import bibtexparser\n",
    "\n",
    "with open('henry.bib') as bibtex_file:\n",
    "    bib_database = bibtexparser.load(bibtex_file)\n",
    "\n",
    "ID = {}\n",
    "for entry in bib_database.entries:\n",
    "    ID[entry['ID']] = float(entry['year'])"
   ]
  },
  {
   "cell_type": "code",
   "execution_count": null,
   "metadata": {},
   "outputs": [],
   "source": []
  },
  {
   "cell_type": "code",
   "execution_count": 32,
   "metadata": {},
   "outputs": [],
   "source": [
    "fil = open('HbpSI.f90','r')\n",
    "lines = fil.readlines()\n",
    "fil.close()"
   ]
  },
  {
   "cell_type": "code",
   "execution_count": 38,
   "metadata": {},
   "outputs": [],
   "source": [
    "inds = []\n",
    "for i in range(len(lines)):\n",
    "    if lines[i][0:10] == '! species:':\n",
    "        inds.append(i)\n",
    "\n",
    "        \n",
    "henry = []\n",
    "        \n",
    "for i in range(len(inds)-1):\n",
    "    data = lines[inds[i]:inds[i+1]-1]\n",
    "    \n",
    "    species = data[1].split()[2].replace('_','').replace('{','').replace('}','')\n",
    "    \n",
    "    casrn = data[3].split()[2]\n",
    "    \n",
    "    refs = []\n",
    "    for j in range(5,len(data)):\n",
    "        line = data[j]\n",
    "        if \"EXP\" in line:\n",
    "            try:\n",
    "                ind = line.index('ref:')\n",
    "                refs.append([line[ind:].split()[1],j])\n",
    "            except:\n",
    "                pass\n",
    "    if len(refs) > 0:\n",
    "        \n",
    "        \n",
    "        years = []\n",
    "        for ref in refs:\n",
    "            years.append(ID[ref[0]])\n",
    "        ind = np.argmax(years)\n",
    "        ind_best = refs[ind][1]\n",
    "        \n",
    "        line = data[ind_best]\n",
    "#         print(line)\n",
    "        A = float(line.split('=')[1].split('*')[0])\n",
    "        B = float(line.split('EXP(')[1].split('*')[0])\n",
    "        \n",
    "        henry.append({})\n",
    "        henry[-1]['name'] = species\n",
    "#         henry[-1]['cas-rn'] = casrn\n",
    "        henry[-1]['A'] = A\n",
    "        henry[-1]['B'] = B\n",
    "        \n",
    "\n",
    "    else:\n",
    "        pass\n",
    "            \n",
    "#     break\n",
    "    \n",
    "    \n",
    "    "
   ]
  },
  {
   "cell_type": "code",
   "execution_count": 39,
   "metadata": {},
   "outputs": [],
   "source": [
    "photo_henry = []\n",
    "\n",
    "for sp in zahnle_species:\n",
    "    for entry in henry:\n",
    "        if entry['name'] == sp:\n",
    "            photo_henry.append(entry)\n",
    "            break"
   ]
  },
  {
   "cell_type": "code",
   "execution_count": null,
   "metadata": {},
   "outputs": [],
   "source": []
  },
  {
   "cell_type": "code",
   "execution_count": 40,
   "metadata": {},
   "outputs": [],
   "source": [
    "fil = open('henry.yaml','w')\n",
    "yaml.dump(photo_henry,fil)\n",
    "fil.close()"
   ]
  },
  {
   "cell_type": "code",
   "execution_count": 41,
   "metadata": {},
   "outputs": [
    {
     "data": {
      "text/plain": [
       "35"
      ]
     },
     "execution_count": 41,
     "metadata": {},
     "output_type": "execute_result"
    }
   ],
   "source": [
    "len(photo_henry)"
   ]
  },
  {
   "cell_type": "code",
   "execution_count": null,
   "metadata": {},
   "outputs": [],
   "source": []
  }
 ],
 "metadata": {
  "kernelspec": {
   "display_name": "Python 3",
   "language": "python",
   "name": "python3"
  },
  "language_info": {
   "codemirror_mode": {
    "name": "ipython",
    "version": 3
   },
   "file_extension": ".py",
   "mimetype": "text/x-python",
   "name": "python",
   "nbconvert_exporter": "python",
   "pygments_lexer": "ipython3",
   "version": "3.8.5"
  }
 },
 "nbformat": 4,
 "nbformat_minor": 4
}
