{
 "cells": [
  {
   "cell_type": "code",
   "execution_count": 1,
   "metadata": {},
   "outputs": [],
   "source": [
    "from requests import get\n",
    "from bs4 import BeautifulSoup\n",
    "from scipy.optimize import minimize\n",
    "import numpy as np\n",
    "from matplotlib import pyplot as plt\n",
    "from collections import OrderedDict"
   ]
  },
  {
   "cell_type": "code",
   "execution_count": 2,
   "metadata": {},
   "outputs": [],
   "source": [
    "import yaml\n",
    "\n",
    "try:\n",
    "    from yaml import CLoader as Loader, CDumper as Dumper\n",
    "except ImportError:\n",
    "    from yaml import Loader, Dumper\n",
    "\n",
    "class flowmap( dict ): pass\n",
    "def flowmap_rep(dumper, data):\n",
    "    return dumper.represent_mapping( u'tag:yaml.org,2002:map', data, flow_style=True)\n",
    "\n",
    "class blockseqtrue( list ): pass\n",
    "def blockseqtrue_rep(dumper, data):\n",
    "    return dumper.represent_sequence( u'tag:yaml.org,2002:seq', data, flow_style=True )\n",
    "\n",
    "yaml.add_representer(blockseqtrue, blockseqtrue_rep)\n",
    "yaml.add_representer(flowmap, flowmap_rep)\n",
    "\n",
    "class MyDumper(yaml.Dumper):\n",
    "    def write_line_break(self, data=None):\n",
    "        super().write_line_break(data)\n",
    "        if len(self.indents) == 1:\n",
    "            super().write_line_break()\n",
    "\n",
    "class MyDumper(yaml.Dumper):\n",
    "    pass"
   ]
  },
  {
   "cell_type": "code",
   "execution_count": 3,
   "metadata": {},
   "outputs": [],
   "source": [
    "def get_response(url):\n",
    "    return get(url).content"
   ]
  },
  {
   "cell_type": "code",
   "execution_count": 4,
   "metadata": {},
   "outputs": [],
   "source": [
    "def get_html_table(Name):\n",
    "\n",
    "    # We treat the url attaching the Name variable to it.\n",
    "    url = str.format('https://webbook.nist.gov/cgi/cbook.cgi?Name={0}&Mask=4',\n",
    "        Name.lower())\n",
    "\n",
    "    # Function to get the request made, see above.\n",
    "    raw_html = get_response(url)\n",
    "\n",
    "    # Parse the html using BeautifulSoup.\n",
    "    html = BeautifulSoup(raw_html, 'html.parser')\n",
    "\n",
    "    # Extract the table that contains the data, the table has a specific\n",
    "    # attributes 'aria-label' as 'Antoine Equation Parameters'.\n",
    "    table = html.find('table', attrs={'aria-label': 'Antoine Equation Parameters'})\n",
    "\n",
    "    return table"
   ]
  },
  {
   "cell_type": "code",
   "execution_count": null,
   "metadata": {},
   "outputs": [],
   "source": [
    "\n"
   ]
  },
  {
   "cell_type": "code",
   "execution_count": null,
   "metadata": {},
   "outputs": [],
   "source": []
  },
  {
   "cell_type": "code",
   "execution_count": 5,
   "metadata": {},
   "outputs": [],
   "source": [
    "def nist_thermo(Name,composition):\n",
    "    url = str.format('https://webbook.nist.gov/cgi/cbook.cgi?Formula={0}&Mask=1#Thermo-Gas',\n",
    "            Name.lower())\n",
    "    raw_html = get_response(url)\n",
    "    html = BeautifulSoup(raw_html, 'html.parser')\n",
    "    if \"Name Not Found\" in html.text:\n",
    "        raise Exception('Did not find it')\n",
    "    \n",
    "    if 'Click on the name to see more data' in html.text:\n",
    "        lst = html.find_all('ol')[0].find_all('li')\n",
    "        ii = -1\n",
    "        for i in range(len(lst)):\n",
    "            ind = lst[i].text.index('(')\n",
    "            if lst[i].text[ind:].replace('(','').replace(')','').strip() == Name:\n",
    "                ii = i\n",
    "\n",
    "                break\n",
    "        if ii == -1:\n",
    "            raise Exception('Did not find it')\n",
    "        new_url = \"https://webbook.nist.gov\"+lst[ii].find_all('a')[0]['href']\n",
    "        raw_html = get_response(new_url)\n",
    "        html = BeautifulSoup(raw_html, 'html.parser')\n",
    "    \n",
    "    table = html.find('table', attrs={'aria-label': 'Gas Phase Heat Capacity (Shomate Equation)'})\n",
    "    order = ['Temperature (K)','A','B','C','D','E','F','G','H','Reference','Comment']\n",
    "    p_labels = ['A','B','C','D','E','F','G','H']\n",
    "\n",
    "    for i in range(len(order)):\n",
    "        assert table.find_all('tr')[i].find_all('th')[0].text == order[i]\n",
    "\n",
    "    ncol = len(table.find_all('tr')[0].find_all('td'))\n",
    "\n",
    "    Tlow = []\n",
    "    Thigh = []\n",
    "    for j in range(ncol):\n",
    "        tmp = table.find_all('tr')[0].find_all('td')[j].text\n",
    "        low = float(tmp.replace(' ','').split('-')[0])\n",
    "        high = float(tmp.replace(' ','').split('-')[1])\n",
    "        Tlow.append(low)\n",
    "        Thigh.append(high)\n",
    "\n",
    "    Tranges = []\n",
    "    for i in range(len(Tlow)+1):\n",
    "        if i == 0:\n",
    "            Tranges.append(Tlow[i])\n",
    "        elif i == len(Tlow):\n",
    "            Tranges.append(Thigh[-1])\n",
    "        else:\n",
    "            assert Tlow[i] == Thigh[i-1]\n",
    "            Tranges.append(Tlow[i])\n",
    "\n",
    "    params = []\n",
    "    for j in range(ncol):\n",
    "        temp = []\n",
    "        for i in range(len(p_labels)):\n",
    "            temp.append(float(table.find_all('tr')[i+1].find_all('td')[j].text))\n",
    "        params.append(temp)\n",
    "    out = {}  \n",
    "    out['name'] = Name\n",
    "    out['composition'] = composition\n",
    "    out['thermo'] = {}\n",
    "    out['thermo']['model'] = 'Shomate'\n",
    "    out['thermo']['temperature-ranges'] = Tranges\n",
    "    out['thermo']['data'] = params\n",
    "    out['note'] = \"From the NIST database\"\n",
    "    return out"
   ]
  },
  {
   "cell_type": "code",
   "execution_count": 10,
   "metadata": {},
   "outputs": [
    {
     "ename": "AttributeError",
     "evalue": "'NoneType' object has no attribute 'find_all'",
     "output_type": "error",
     "traceback": [
      "\u001b[0;31m---------------------------------------------------------------------------\u001b[0m",
      "\u001b[0;31mAttributeError\u001b[0m                            Traceback (most recent call last)",
      "\u001b[0;32m<ipython-input-10-d4156feedb70>\u001b[0m in \u001b[0;36m<module>\u001b[0;34m\u001b[0m\n\u001b[1;32m      1\u001b[0m \u001b[0mName\u001b[0m \u001b[0;34m=\u001b[0m \u001b[0;34m'O2S2'\u001b[0m\u001b[0;34m\u001b[0m\u001b[0;34m\u001b[0m\u001b[0m\n\u001b[1;32m      2\u001b[0m \u001b[0mcomposition\u001b[0m \u001b[0;34m=\u001b[0m \u001b[0;34m{\u001b[0m\u001b[0;34m'Cl'\u001b[0m\u001b[0;34m:\u001b[0m \u001b[0;36m1\u001b[0m\u001b[0;34m,\u001b[0m \u001b[0;34m'C'\u001b[0m\u001b[0;34m:\u001b[0m \u001b[0;36m1\u001b[0m\u001b[0;34m,\u001b[0m \u001b[0;34m'O'\u001b[0m\u001b[0;34m:\u001b[0m \u001b[0;36m1\u001b[0m\u001b[0;34m}\u001b[0m\u001b[0;34m\u001b[0m\u001b[0;34m\u001b[0m\u001b[0m\n\u001b[0;32m----> 3\u001b[0;31m \u001b[0mnist_thermo\u001b[0m\u001b[0;34m(\u001b[0m\u001b[0mName\u001b[0m\u001b[0;34m,\u001b[0m\u001b[0mcomposition\u001b[0m\u001b[0;34m)\u001b[0m\u001b[0;34m\u001b[0m\u001b[0;34m\u001b[0m\u001b[0m\n\u001b[0m",
      "\u001b[0;32m<ipython-input-5-1222e7a3dd84>\u001b[0m in \u001b[0;36mnist_thermo\u001b[0;34m(Name, composition)\u001b[0m\n\u001b[1;32m     27\u001b[0m \u001b[0;34m\u001b[0m\u001b[0m\n\u001b[1;32m     28\u001b[0m     \u001b[0;32mfor\u001b[0m \u001b[0mi\u001b[0m \u001b[0;32min\u001b[0m \u001b[0mrange\u001b[0m\u001b[0;34m(\u001b[0m\u001b[0mlen\u001b[0m\u001b[0;34m(\u001b[0m\u001b[0morder\u001b[0m\u001b[0;34m)\u001b[0m\u001b[0;34m)\u001b[0m\u001b[0;34m:\u001b[0m\u001b[0;34m\u001b[0m\u001b[0;34m\u001b[0m\u001b[0m\n\u001b[0;32m---> 29\u001b[0;31m         \u001b[0;32massert\u001b[0m \u001b[0mtable\u001b[0m\u001b[0;34m.\u001b[0m\u001b[0mfind_all\u001b[0m\u001b[0;34m(\u001b[0m\u001b[0;34m'tr'\u001b[0m\u001b[0;34m)\u001b[0m\u001b[0;34m[\u001b[0m\u001b[0mi\u001b[0m\u001b[0;34m]\u001b[0m\u001b[0;34m.\u001b[0m\u001b[0mfind_all\u001b[0m\u001b[0;34m(\u001b[0m\u001b[0;34m'th'\u001b[0m\u001b[0;34m)\u001b[0m\u001b[0;34m[\u001b[0m\u001b[0;36m0\u001b[0m\u001b[0;34m]\u001b[0m\u001b[0;34m.\u001b[0m\u001b[0mtext\u001b[0m \u001b[0;34m==\u001b[0m \u001b[0morder\u001b[0m\u001b[0;34m[\u001b[0m\u001b[0mi\u001b[0m\u001b[0;34m]\u001b[0m\u001b[0;34m\u001b[0m\u001b[0;34m\u001b[0m\u001b[0m\n\u001b[0m\u001b[1;32m     30\u001b[0m \u001b[0;34m\u001b[0m\u001b[0m\n\u001b[1;32m     31\u001b[0m     \u001b[0mncol\u001b[0m \u001b[0;34m=\u001b[0m \u001b[0mlen\u001b[0m\u001b[0;34m(\u001b[0m\u001b[0mtable\u001b[0m\u001b[0;34m.\u001b[0m\u001b[0mfind_all\u001b[0m\u001b[0;34m(\u001b[0m\u001b[0;34m'tr'\u001b[0m\u001b[0;34m)\u001b[0m\u001b[0;34m[\u001b[0m\u001b[0;36m0\u001b[0m\u001b[0;34m]\u001b[0m\u001b[0;34m.\u001b[0m\u001b[0mfind_all\u001b[0m\u001b[0;34m(\u001b[0m\u001b[0;34m'td'\u001b[0m\u001b[0;34m)\u001b[0m\u001b[0;34m)\u001b[0m\u001b[0;34m\u001b[0m\u001b[0;34m\u001b[0m\u001b[0m\n",
      "\u001b[0;31mAttributeError\u001b[0m: 'NoneType' object has no attribute 'find_all'"
     ]
    }
   ],
   "source": [
    "Name = 'O2S2'\n",
    "composition = {'Cl': 1, 'C': 1, 'O': 1}\n",
    "nist_thermo(Name,composition)"
   ]
  },
  {
   "cell_type": "code",
   "execution_count": null,
   "metadata": {},
   "outputs": [],
   "source": []
  },
  {
   "cell_type": "code",
   "execution_count": null,
   "metadata": {},
   "outputs": [],
   "source": []
  },
  {
   "cell_type": "code",
   "execution_count": 18,
   "metadata": {},
   "outputs": [],
   "source": [
    "out['composition'] = flowmap(out['composition'])\n",
    "out['thermo']['temperature-ranges'] = blockseqtrue(out['thermo']['temperature-ranges'])\n",
    "for i in range(len(out['thermo']['data'])):\n",
    "    out['thermo']['data'][i] = blockseqtrue(out['thermo']['data'][i])"
   ]
  },
  {
   "cell_type": "code",
   "execution_count": 19,
   "metadata": {},
   "outputs": [],
   "source": [
    "fil = open('thermo.yaml','w')\n",
    "yaml.dump(out,fil,Dumper=MyDumper,sort_keys=False,width=70)\n",
    "fil.close()"
   ]
  },
  {
   "cell_type": "code",
   "execution_count": 189,
   "metadata": {},
   "outputs": [],
   "source": []
  },
  {
   "cell_type": "code",
   "execution_count": 181,
   "metadata": {},
   "outputs": [
    {
     "data": {
      "text/plain": [
       "'https://webbook.nist.gov/cgi/cbook.cgi?ID=C3315375&Units=SI&Mask=1'"
      ]
     },
     "execution_count": 181,
     "metadata": {},
     "output_type": "execute_result"
    }
   ],
   "source": [
    "new_url"
   ]
  },
  {
   "cell_type": "code",
   "execution_count": 177,
   "metadata": {},
   "outputs": [],
   "source": []
  },
  {
   "cell_type": "code",
   "execution_count": 178,
   "metadata": {},
   "outputs": [
    {
     "data": {
      "text/plain": [
       "'https://webbook.nist.gov/cgi/cbook.cgi?ID=C3315375&Units=SI&Mask=1'"
      ]
     },
     "execution_count": 178,
     "metadata": {},
     "output_type": "execute_result"
    }
   ],
   "source": [
    "new_url"
   ]
  },
  {
   "cell_type": "code",
   "execution_count": 138,
   "metadata": {},
   "outputs": [
    {
     "data": {
      "text/plain": [
       "[<a href=\"/cgi/cbook.cgi?ID=C3315375&amp;Units=SI&amp;Mask=1\">Methylidyne</a>]"
      ]
     },
     "execution_count": 138,
     "metadata": {},
     "output_type": "execute_result"
    }
   ],
   "source": [
    "html.find_all('ol')[0].find_all('li')[0].find_all('a')"
   ]
  },
  {
   "cell_type": "code",
   "execution_count": 144,
   "metadata": {},
   "outputs": [
    {
     "data": {
      "text/plain": [
       "'(CH)'"
      ]
     },
     "execution_count": 144,
     "metadata": {},
     "output_type": "execute_result"
    }
   ],
   "source": [
    "\n",
    "    "
   ]
  },
  {
   "cell_type": "code",
   "execution_count": 18,
   "metadata": {},
   "outputs": [],
   "source": [
    "import cirpy\n",
    "cirpy.resolve('CH4', 'smiles')"
   ]
  },
  {
   "cell_type": "code",
   "execution_count": 22,
   "metadata": {},
   "outputs": [
    {
     "data": {
      "text/plain": [
       "['191234-22-7', '341972-31-4', '74-90-8']"
      ]
     },
     "execution_count": 22,
     "metadata": {},
     "output_type": "execute_result"
    }
   ],
   "source": [
    "cirpy.resolve('hydrogen cyanide', 'cas')"
   ]
  },
  {
   "cell_type": "code",
   "execution_count": null,
   "metadata": {},
   "outputs": [],
   "source": []
  },
  {
   "cell_type": "code",
   "execution_count": null,
   "metadata": {},
   "outputs": [],
   "source": []
  },
  {
   "cell_type": "code",
   "execution_count": 58,
   "metadata": {},
   "outputs": [],
   "source": [
    "tmp = table.find_all('tr')[0].find_all('td')[0].text"
   ]
  },
  {
   "cell_type": "code",
   "execution_count": 68,
   "metadata": {},
   "outputs": [],
   "source": [
    "low = float(tmp.replace(' ','').split('-')[0])\n",
    "high = float(tmp.replace(' ','').split('-')[1])"
   ]
  },
  {
   "cell_type": "code",
   "execution_count": 73,
   "metadata": {},
   "outputs": [
    {
     "data": {
      "text/plain": [
       "[1300.0, 6000.0]"
      ]
     },
     "execution_count": 73,
     "metadata": {},
     "output_type": "execute_result"
    }
   ],
   "source": [
    "Thigh"
   ]
  },
  {
   "cell_type": "code",
   "execution_count": null,
   "metadata": {},
   "outputs": [],
   "source": []
  },
  {
   "cell_type": "code",
   "execution_count": null,
   "metadata": {},
   "outputs": [],
   "source": []
  },
  {
   "cell_type": "code",
   "execution_count": null,
   "metadata": {},
   "outputs": [],
   "source": []
  },
  {
   "cell_type": "code",
   "execution_count": null,
   "metadata": {},
   "outputs": [],
   "source": []
  },
  {
   "cell_type": "code",
   "execution_count": 12,
   "metadata": {},
   "outputs": [],
   "source": [
    "def get_antoine_coef(Name):\n",
    "    # Obtaining the table using the get_html function showed below. Table is a\n",
    "    # BeautifulSoup Object.\n",
    "    table = get_html_table(Name)\n",
    "\n",
    "    # Extract the rows from the table. Knowing what tags have an HTML table.\n",
    "    # Also, knowing that the fist row with he table header does not have the\n",
    "    # class attribute 'exp' so we obtain just the rows with data.\n",
    "    # The find_all function from BeautifulSoup return a list\n",
    "    rows = table.find_all('tr', class_='exp')\n",
    "\n",
    "    # Declaring the lists for storage Temperatures, and coefficients.\n",
    "    Temperatures, As, Bs, Cs = [], [], [], []\n",
    "\n",
    "    # Looping over rows to extract and fill As, Bs, and Cs variables because now\n",
    "    # we are sure the Temperatues is between some range.\n",
    "    for row in rows:\n",
    "\n",
    "        # As the rows, we extract the columns for the current row. Knowing that\n",
    "        # the cols have the <td> tag in HTML as well\n",
    "        # The find_all function from BeautifulSoup return a list\n",
    "        cols =  row.find_all('td')\n",
    "\n",
    "        # First transform the strings into float numbers and put them in their\n",
    "        # respective list\n",
    "        As.append(float(cols[1].text))\n",
    "        Bs.append(float(cols[2].text))\n",
    "        Cs.append(float(cols[3].text))\n",
    "\n",
    "        # For the temperatures, we have a range and we need to extract each\n",
    "        # limit (lower and higher) and put them in an extra list. So\n",
    "        # Temperatures variable will be a list of lists.\n",
    "        lower_lim = float(cols[0].text.replace(\" \",\"\").split('-')[0])\n",
    "        higher_lim = float(cols[0].text.replace(\" \",\"\").split('-')[1])\n",
    "        Temperatures.append([lower_lim, higher_lim])\n",
    "\n",
    "        return As,Bs,Cs,Temperatures"
   ]
  },
  {
   "cell_type": "code",
   "execution_count": 15,
   "metadata": {},
   "outputs": [],
   "source": [
    "fil = open('../reaction_mechanisms/zahnle_earth.yaml','r')\n",
    "zahnle = yaml.load(fil,Loader=Loader)\n",
    "fil.close()"
   ]
  },
  {
   "cell_type": "code",
   "execution_count": 16,
   "metadata": {},
   "outputs": [],
   "source": [
    "comp = {}\n",
    "for i in range(len(zahnle['species'])):\n",
    "    comp[zahnle['species'][i]['name']] = zahnle['species'][i]['composition']"
   ]
  },
  {
   "cell_type": "code",
   "execution_count": 56,
   "metadata": {},
   "outputs": [
    {
     "name": "stdout",
     "output_type": "stream",
     "text": [
      "CH\n",
      "CH2\n",
      "CH3\n",
      "CH4\n",
      "HCN\n",
      "C2H\n",
      "C2H2\n",
      "C2H4\n",
      "C2H6\n",
      "C3H4\n",
      "C3H6\n",
      "C4H2\n",
      "C4H4\n",
      "HCS\n",
      "C2H3\n",
      "C2H5\n",
      "1CH2\n",
      "H2CN\n",
      "C4H\n",
      "C4H3\n",
      "CH2N2\n",
      "CH2CN\n",
      "CH3CN\n",
      "HCCCN\n"
     ]
    }
   ],
   "source": [
    "for i in range(len(zahnle['species'])):\n",
    "    if 'C' in zahnle['species'][i]['name'] \\\n",
    "    and \"H\" in zahnle['species'][i]['name'] \\\n",
    "    and not 'Cl' in zahnle['species'][i]['name'] \\\n",
    "    and not 'O' in zahnle['species'][i]['name']:\n",
    "        print(zahnle['species'][i]['name'])"
   ]
  },
  {
   "cell_type": "code",
   "execution_count": null,
   "metadata": {},
   "outputs": [],
   "source": []
  },
  {
   "cell_type": "code",
   "execution_count": 17,
   "metadata": {},
   "outputs": [
    {
     "data": {
      "text/plain": [
       "{'H': 2, 'O': 1}"
      ]
     },
     "execution_count": 17,
     "metadata": {},
     "output_type": "execute_result"
    }
   ],
   "source": [
    "name = 'H2O'\n",
    "As,Bs,Cs,Ts = get_antoine_coef(name)\n",
    "comp[name]"
   ]
  },
  {
   "cell_type": "code",
   "execution_count": 18,
   "metadata": {},
   "outputs": [
    {
     "data": {
      "text/plain": [
       "[[379.0, 573.0]]"
      ]
     },
     "execution_count": 18,
     "metadata": {},
     "output_type": "execute_result"
    }
   ],
   "source": [
    "Ts"
   ]
  },
  {
   "cell_type": "code",
   "execution_count": 19,
   "metadata": {},
   "outputs": [],
   "source": [
    "i = 0\n",
    "Aa = As[i]\n",
    "Ba = Bs[i]\n",
    "Ca = Cs[i]"
   ]
  },
  {
   "cell_type": "code",
   "execution_count": null,
   "metadata": {},
   "outputs": [],
   "source": [
    "real(real_kind), parameter :: lc = 2.5d6 ! specific enthalpy of H2O vaporization\n",
    "real(real_kind), parameter :: Rc = 461.d0 ! gas constant for water\n",
    "real(real_kind), parameter :: e0 = 611.d0 ! Pascals\n",
    "real(real_kind), parameter :: T0 = 273.15d0 ! K\n",
    "! Catling and Kasting (Equation 1.49)\n",
    "p_H2O = 10.d0*e0*exp(lc/Rc*(1/T0 - 1/T))"
   ]
  },
  {
   "cell_type": "code",
   "execution_count": 27,
   "metadata": {},
   "outputs": [],
   "source": []
  },
  {
   "cell_type": "code",
   "execution_count": null,
   "metadata": {},
   "outputs": [],
   "source": []
  },
  {
   "cell_type": "code",
   "execution_count": null,
   "metadata": {},
   "outputs": [],
   "source": []
  },
  {
   "cell_type": "code",
   "execution_count": 28,
   "metadata": {},
   "outputs": [],
   "source": [
    "T = np.linspace(100,500,100)\n",
    "P_H2O = 611*np.exp(2.5e6/461*(1/273.15 - 1/T))/1e5\n",
    "\n",
    "def antoine(A,B,C,T):\n",
    "    return 10**(A - B/(C+T))\n",
    "\n",
    "def sat(A,B,C,T):\n",
    "    return np.exp(A + B/T + C/T**2)\n",
    "\n",
    "def objective(x):\n",
    "    A,B,C = x\n",
    "#     return np.linalg.norm(np.log10(antoine(Aa,Ba,Ca,T)) - np.log10(sat(A,B,C,T)))\n",
    "    return np.linalg.norm(np.log10(P_H2O) - np.log10(sat(A,B,C,T)))\n",
    "\n",
    "sol = minimize(objective,[9,-1,1])\n",
    "A,B,C = sol.x\n",
    "# sol"
   ]
  },
  {
   "cell_type": "code",
   "execution_count": 31,
   "metadata": {},
   "outputs": [
    {
     "data": {
      "image/png": "[encoded data removed]",
      "text/plain": [
       "<Figure size 504x360 with 1 Axes>"
      ]
     },
     "metadata": {
      "needs_background": "light"
     },
     "output_type": "display_data"
    }
   ],
   "source": [
    "plt.rcParams.update({'font.size': 12})\n",
    "fig,ax = plt.subplots(1,1,figsize=[7,5])\n",
    "\n",
    "ax.plot(T,P_H2O)\n",
    "\n",
    "ax.plot(T,sat(A,B,C,T),'--')\n",
    "\n",
    "ax.set_yscale('log')"
   ]
  },
  {
   "cell_type": "code",
   "execution_count": 34,
   "metadata": {},
   "outputs": [
    {
     "data": {
      "text/plain": [
       "array([ 1.47557078e+01, -5.42299340e+03, -7.95411630e-03])"
      ]
     },
     "execution_count": 34,
     "metadata": {},
     "output_type": "execute_result"
    }
   ],
   "source": [
    "sol.x"
   ]
  },
  {
   "cell_type": "code",
   "execution_count": 32,
   "metadata": {},
   "outputs": [],
   "source": [
    "res = {}\n",
    "res['name'] = name+'aer'\n",
    "res['formation'] = \"saturation\"\n",
    "res['density'] = 1\n",
    "res['gas-phase'] = name\n",
    "res['saturation-parameters'] = {\"A\":float('%.2e'%A),\"B\":float('%.2e'%B),\"C\":float('%.2e'%C)}\n",
    "res['composition'] = comp[name]\n",
    "res['optical-properties'] = \"khare1984\"\n",
    "res['optical-type'] = 'mie'\n",
    "\n",
    "res['saturation-parameters'] = flowmap(res['saturation-parameters'])\n",
    "res['composition'] = flowmap(res['composition'])\n",
    "\n"
   ]
  },
  {
   "cell_type": "code",
   "execution_count": 33,
   "metadata": {},
   "outputs": [
    {
     "data": {
      "text/plain": [
       "{'name': 'H2Oaer',\n",
       " 'formation': 'saturation',\n",
       " 'density': 1,\n",
       " 'gas-phase': 'H2O',\n",
       " 'saturation-parameters': {'A': 14.8, 'B': -5420.0, 'C': -0.00795},\n",
       " 'composition': {'H': 2, 'O': 1},\n",
       " 'optical-properties': 'khare1984',\n",
       " 'optical-type': 'mie'}"
      ]
     },
     "execution_count": 33,
     "metadata": {},
     "output_type": "execute_result"
    }
   ],
   "source": [
    "res"
   ]
  },
  {
   "cell_type": "code",
   "execution_count": 35,
   "metadata": {},
   "outputs": [],
   "source": [
    "\n",
    "# fil = open('saturation_data.yaml','r')\n",
    "# data = yaml.load(fil,Loader=Loader)\n",
    "# fil.close()\n",
    "\n",
    "\n",
    "\n",
    "# data.append(res)\n",
    "# for i in range(len(data)):\n",
    "#     data[i]['saturation-parameters'] = flowmap(data[i]['saturation-parameters'])\n",
    "#     data[i]['composition'] = flowmap(data[i]['composition'])\n",
    "\n",
    "data = [res]\n",
    "fil = open('tmp.yaml','w')\n",
    "yaml.dump(data,fil,Dumper=MyDumper,sort_keys=False,width=70)\n",
    "fil.close()\n"
   ]
  },
  {
   "cell_type": "code",
   "execution_count": null,
   "metadata": {},
   "outputs": [],
   "source": []
  },
  {
   "cell_type": "code",
   "execution_count": null,
   "metadata": {},
   "outputs": [],
   "source": []
  },
  {
   "cell_type": "code",
   "execution_count": null,
   "metadata": {},
   "outputs": [],
   "source": []
  },
  {
   "cell_type": "code",
   "execution_count": null,
   "metadata": {},
   "outputs": [],
   "source": []
  },
  {
   "cell_type": "code",
   "execution_count": 19,
   "metadata": {},
   "outputs": [
    {
     "data": {
      "text/plain": [
       "[[214.64, 308.33], [192.59, 206.3]]"
      ]
     },
     "execution_count": 19,
     "metadata": {},
     "output_type": "execute_result"
    }
   ],
   "source": [
    "Temperatures"
   ]
  },
  {
   "cell_type": "code",
   "execution_count": 20,
   "metadata": {},
   "outputs": [
    {
     "data": {
      "text/plain": [
       "[4.66141, 4.19598]"
      ]
     },
     "execution_count": 20,
     "metadata": {},
     "output_type": "execute_result"
    }
   ],
   "source": [
    "As"
   ]
  },
  {
   "cell_type": "code",
   "execution_count": 21,
   "metadata": {},
   "outputs": [
    {
     "data": {
      "text/plain": [
       "[909.079, 699.53]"
      ]
     },
     "execution_count": 21,
     "metadata": {},
     "output_type": "execute_result"
    }
   ],
   "source": [
    "Bs"
   ]
  },
  {
   "cell_type": "code",
   "execution_count": 22,
   "metadata": {},
   "outputs": [
    {
     "data": {
      "text/plain": [
       "[7.947, -21.47]"
      ]
     },
     "execution_count": 22,
     "metadata": {},
     "output_type": "execute_result"
    }
   ],
   "source": [
    "Cs"
   ]
  },
  {
   "cell_type": "code",
   "execution_count": null,
   "metadata": {},
   "outputs": [],
   "source": []
  }
 ],
 "metadata": {
  "kernelspec": {
   "display_name": "Python 3",
   "language": "python",
   "name": "python3"
  },
  "language_info": {
   "codemirror_mode": {
    "name": "ipython",
    "version": 3
   },
   "file_extension": ".py",
   "mimetype": "text/x-python",
   "name": "python",
   "nbconvert_exporter": "python",
   "pygments_lexer": "ipython3",
   "version": "3.8.5"
  }
 },
 "nbformat": 4,
 "nbformat_minor": 4
}
